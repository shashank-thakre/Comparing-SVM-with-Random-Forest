{
 "cells": [
  {
   "cell_type": "markdown",
   "metadata": {},
   "source": [
    "# Comparing SVM with Random Forest"
   ]
  },
  {
   "cell_type": "code",
   "execution_count": 1,
   "metadata": {},
   "outputs": [],
   "source": [
    "#Import Libraries\n",
    "import numpy as np\n",
    "import pandas as pd\n",
    "from sklearn.model_selection import train_test_split\n",
    "from sklearn.ensemble import RandomForestClassifier, AdaBoostClassifier, GradientBoostingClassifier\n",
    "from sklearn.svm import LinearSVC, SVC\n",
    "from sklearn.model_selection import GridSearchCV, RandomizedSearchCV\n",
    "import sklearn.metrics as sm\n",
    "from sklearn.metrics import roc_curve, roc_auc_score, auc\n",
    "from sklearn.preprocessing import StandardScaler\n",
    "import matplotlib.pyplot as plt\n",
    "import pylab as pl"
   ]
  },
  {
   "cell_type": "markdown",
   "metadata": {},
   "source": [
    "### 1. Data Processing"
   ]
  },
  {
   "cell_type": "markdown",
   "metadata": {},
   "source": [
    "##### a) Import the data: You are provided separate .csv files for train and test.\n",
    "\n",
    "Train shape: (507, 148)  \n",
    "Test shape: (168, 148)"
   ]
  },
  {
   "cell_type": "code",
   "execution_count": 2,
   "metadata": {},
   "outputs": [],
   "source": [
    "# Read the data\n",
    "train = pd.read_csv('train_data.csv')\n",
    "test = pd.read_csv('test_data.csv')"
   ]
  },
  {
   "cell_type": "code",
   "execution_count": 3,
   "metadata": {},
   "outputs": [
    {
     "name": "stdout",
     "output_type": "stream",
     "text": [
      "(507, 148)\n",
      "(168, 148)\n"
     ]
    }
   ],
   "source": [
    "#Print the dataset shape\n",
    "print(train.shape)\n",
    "print(test.shape)"
   ]
  },
  {
   "cell_type": "markdown",
   "metadata": {},
   "source": [
    "##### b) Remove any rows that have missing data across both sets of data."
   ]
  },
  {
   "cell_type": "code",
   "execution_count": 4,
   "metadata": {},
   "outputs": [
    {
     "name": "stdout",
     "output_type": "stream",
     "text": [
      "(507, 148)\n",
      "(168, 148)\n"
     ]
    }
   ],
   "source": [
    "#Drop records with missing rows\n",
    "train.dropna(inplace=True, axis = 0)\n",
    "test.dropna(inplace=True, axis = 0)\n",
    "\n",
    "#Print the dataset shape\n",
    "print(train.shape)\n",
    "print(test.shape)"
   ]
  },
  {
   "cell_type": "markdown",
   "metadata": {},
   "source": [
    "##### c) The target variable (dependent variable) is called \"class\", make sure to separate this out into a \"y_train\" and \"y_test\" and remove from your \"X_train\" and \"X_test\". "
   ]
  },
  {
   "cell_type": "code",
   "execution_count": 5,
   "metadata": {},
   "outputs": [
    {
     "data": {
      "text/plain": [
       "((507, 147), (507,), (168, 147), (168,))"
      ]
     },
     "execution_count": 5,
     "metadata": {},
     "output_type": "execute_result"
    }
   ],
   "source": [
    "#Create the train and test variables\n",
    "X_train = train.drop(['class'], axis = 1)\n",
    "y_train = train['class']\n",
    "\n",
    "X_test = test.drop(['class'], axis = 1)\n",
    "y_test = test['class']\n",
    "\n",
    "X_train.shape, y_train.shape, X_test.shape, y_test.shape"
   ]
  },
  {
   "cell_type": "markdown",
   "metadata": {},
   "source": [
    "##### d) Scale all features / predictors (NOT THE TARGET VARIABLE)"
   ]
  },
  {
   "cell_type": "code",
   "execution_count": 6,
   "metadata": {},
   "outputs": [],
   "source": [
    "sc = StandardScaler().fit(X_train)\n",
    "\n",
    "X_train_scaled = sc.transform(X_train)\n",
    "X_test_scaled = sc.transform (X_test)"
   ]
  },
  {
   "cell_type": "markdown",
   "metadata": {},
   "source": [
    "### 2. Random Forest Classifier - Base Model:"
   ]
  },
  {
   "cell_type": "markdown",
   "metadata": {},
   "source": [
    "##### a) Use the RandomForestClassifier in sklearn. Fit your model on the training data."
   ]
  },
  {
   "cell_type": "code",
   "execution_count": 7,
   "metadata": {},
   "outputs": [],
   "source": [
    "#Create an instance of the Random forest classifier\n",
    "rf = RandomForestClassifier(random_state=42)"
   ]
  },
  {
   "cell_type": "code",
   "execution_count": 8,
   "metadata": {},
   "outputs": [
    {
     "data": {
      "text/plain": [
       "RandomForestClassifier(random_state=42)"
      ]
     },
     "execution_count": 8,
     "metadata": {},
     "output_type": "execute_result"
    }
   ],
   "source": [
    "rf.fit(X_train_scaled, y_train)"
   ]
  },
  {
   "cell_type": "markdown",
   "metadata": {},
   "source": [
    "##### b) Use the fitted model to predict on test data. Use the .predict() method to get the predicted classes."
   ]
  },
  {
   "cell_type": "code",
   "execution_count": 9,
   "metadata": {},
   "outputs": [
    {
     "data": {
      "text/plain": [
       "array(['car ', 'concrete ', 'building ', 'concrete ', 'concrete ',\n",
       "       'grass ', 'car ', 'car ', 'building ', 'tree ', 'building ',\n",
       "       'asphalt ', 'building ', 'grass ', 'shadow ', 'building ', 'tree ',\n",
       "       'soil ', 'building ', 'shadow ', 'pool ', 'asphalt ', 'concrete ',\n",
       "       'tree ', 'grass ', 'concrete ', 'grass ', 'building ', 'building ',\n",
       "       'building ', 'asphalt ', 'shadow ', 'concrete ', 'grass ', 'tree ',\n",
       "       'concrete ', 'asphalt ', 'concrete ', 'tree ', 'concrete ',\n",
       "       'concrete ', 'tree ', 'building ', 'building ', 'building ',\n",
       "       'grass ', 'grass ', 'shadow ', 'concrete ', 'soil ', 'shadow ',\n",
       "       'tree ', 'car ', 'car ', 'asphalt ', 'pool ', 'building ', 'tree ',\n",
       "       'grass ', 'grass ', 'car ', 'car ', 'pool ', 'building ', 'soil ',\n",
       "       'grass ', 'building ', 'building ', 'building ', 'soil ',\n",
       "       'concrete ', 'building ', 'asphalt ', 'pool ', 'pool ', 'shadow ',\n",
       "       'building ', 'grass ', 'asphalt ', 'asphalt ', 'pool ', 'pool ',\n",
       "       'building ', 'building ', 'building ', 'shadow ', 'building ',\n",
       "       'grass ', 'asphalt ', 'grass ', 'grass ', 'grass ', 'building ',\n",
       "       'concrete ', 'concrete ', 'grass ', 'pool ', 'car ', 'shadow ',\n",
       "       'tree ', 'grass ', 'asphalt ', 'tree ', 'car ', 'tree ',\n",
       "       'asphalt ', 'grass ', 'building ', 'concrete ', 'grass ',\n",
       "       'asphalt ', 'grass ', 'grass ', 'car ', 'concrete ', 'tree ',\n",
       "       'grass ', 'concrete ', 'concrete ', 'car ', 'car ', 'grass ',\n",
       "       'shadow ', 'pool ', 'tree ', 'asphalt ', 'tree ', 'pool ',\n",
       "       'building ', 'grass ', 'concrete ', 'asphalt ', 'asphalt ',\n",
       "       'concrete ', 'asphalt ', 'grass ', 'shadow ', 'pool ', 'pool ',\n",
       "       'pool ', 'car ', 'building ', 'concrete ', 'asphalt ', 'concrete ',\n",
       "       'asphalt ', 'building ', 'shadow ', 'shadow ', 'tree ', 'grass ',\n",
       "       'asphalt ', 'tree ', 'shadow ', 'concrete ', 'building ',\n",
       "       'concrete ', 'tree ', 'asphalt ', 'concrete ', 'grass ', 'tree ',\n",
       "       'tree ', 'car ', 'soil ', 'grass ', 'grass ', 'concrete '],\n",
       "      dtype=object)"
      ]
     },
     "execution_count": 9,
     "metadata": {},
     "output_type": "execute_result"
    }
   ],
   "source": [
    "y_pred_rf = rf.predict(X_test_scaled)\n",
    "y_pred_rf"
   ]
  },
  {
   "cell_type": "markdown",
   "metadata": {},
   "source": [
    "##### c) Calculate the confusion matrix and classification report for the test data. "
   ]
  },
  {
   "cell_type": "code",
   "execution_count": 10,
   "metadata": {},
   "outputs": [
    {
     "data": {
      "text/plain": [
       "array([[14,  0,  0,  0,  0,  0,  0,  0,  0],\n",
       "       [ 1, 22,  0,  2,  0,  0,  0,  0,  0],\n",
       "       [ 1,  1, 13,  0,  0,  0,  0,  0,  0],\n",
       "       [ 0,  5,  0, 18,  0,  0,  0,  0,  0],\n",
       "       [ 0,  0,  0,  0, 25,  0,  0,  0,  4],\n",
       "       [ 1,  0,  1,  0,  0, 13,  0,  0,  0],\n",
       "       [ 3,  0,  0,  0,  0,  0, 13,  0,  0],\n",
       "       [ 0,  1,  0,  5,  3,  0,  0,  5,  0],\n",
       "       [ 0,  0,  0,  1,  1,  0,  0,  0, 15]], dtype=int64)"
      ]
     },
     "execution_count": 10,
     "metadata": {},
     "output_type": "execute_result"
    }
   ],
   "source": [
    "cm_train = sm.confusion_matrix(y_test,y_pred_rf)\n",
    "cm_train"
   ]
  },
  {
   "cell_type": "code",
   "execution_count": 11,
   "metadata": {},
   "outputs": [
    {
     "data": {
      "text/plain": [
       "<Figure size 1440x1440 with 0 Axes>"
      ]
     },
     "metadata": {},
     "output_type": "display_data"
    },
    {
     "data": {
      "image/png": "[encoded data removed]",
      "text/plain": [
       "<Figure size 288x288 with 2 Axes>"
      ]
     },
     "metadata": {
      "needs_background": "light"
     },
     "output_type": "display_data"
    }
   ],
   "source": [
    "fig = plt.figure(figsize=(20,20))\n",
    "pl.matshow(cm_train)\n",
    "pl.title('Confusion matrix of the classifier')\n",
    "plt.xlabel('Predicted')\n",
    "plt.ylabel('True')\n",
    "pl.colorbar()\n",
    "plt.show()"
   ]
  },
  {
   "cell_type": "code",
   "execution_count": 12,
   "metadata": {},
   "outputs": [
    {
     "name": "stdout",
     "output_type": "stream",
     "text": [
      "              precision    recall  f1-score   support\n",
      "\n",
      "    asphalt        0.70      1.00      0.82        14\n",
      "   building        0.76      0.88      0.81        25\n",
      "        car        0.93      0.87      0.90        15\n",
      "   concrete        0.69      0.78      0.73        23\n",
      "      grass        0.86      0.86      0.86        29\n",
      "       pool        1.00      0.87      0.93        15\n",
      "     shadow        1.00      0.81      0.90        16\n",
      "       soil        1.00      0.36      0.53        14\n",
      "       tree        0.79      0.88      0.83        17\n",
      "\n",
      "    accuracy                           0.82       168\n",
      "   macro avg       0.86      0.81      0.81       168\n",
      "weighted avg       0.85      0.82      0.82       168\n",
      "\n"
     ]
    }
   ],
   "source": [
    "#Classification report\n",
    "print(sm.classification_report(y_test,y_pred_rf))"
   ]
  },
  {
   "cell_type": "markdown",
   "metadata": {},
   "source": [
    "##### d)  Calculate predictions for the training data & build the classification report & confusion matrix. Are there signs of overfitting? Why or why not?"
   ]
  },
  {
   "cell_type": "code",
   "execution_count": 13,
   "metadata": {},
   "outputs": [],
   "source": [
    "y_pred_train = rf.predict(X_train_scaled)"
   ]
  },
  {
   "cell_type": "code",
   "execution_count": 14,
   "metadata": {},
   "outputs": [
    {
     "data": {
      "text/plain": [
       "array([[45,  0,  0,  0,  0,  0,  0,  0,  0],\n",
       "       [ 0, 97,  0,  0,  0,  0,  0,  0,  0],\n",
       "       [ 0,  0, 21,  0,  0,  0,  0,  0,  0],\n",
       "       [ 0,  0,  0, 93,  0,  0,  0,  0,  0],\n",
       "       [ 0,  0,  0,  0, 83,  0,  0,  0,  0],\n",
       "       [ 0,  0,  0,  0,  0, 14,  0,  0,  0],\n",
       "       [ 0,  0,  0,  0,  0,  0, 45,  0,  0],\n",
       "       [ 0,  0,  0,  0,  0,  0,  0, 20,  0],\n",
       "       [ 0,  0,  0,  0,  0,  0,  0,  0, 89]], dtype=int64)"
      ]
     },
     "execution_count": 14,
     "metadata": {},
     "output_type": "execute_result"
    }
   ],
   "source": [
    "cm_train = sm.confusion_matrix(y_train,y_pred_train)\n",
    "cm_train"
   ]
  },
  {
   "cell_type": "code",
   "execution_count": 15,
   "metadata": {},
   "outputs": [
    {
     "data": {
      "text/plain": [
       "<Figure size 1440x1440 with 0 Axes>"
      ]
     },
     "metadata": {},
     "output_type": "display_data"
    },
    {
     "data": {
      "image/png": "[encoded data removed]",
      "text/plain": [
       "<Figure size 288x288 with 2 Axes>"
      ]
     },
     "metadata": {
      "needs_background": "light"
     },
     "output_type": "display_data"
    }
   ],
   "source": [
    "fig = plt.figure(figsize=(20,20))\n",
    "pl.matshow(cm_train)\n",
    "pl.title('Confusion matrix of the classifier')\n",
    "plt.xlabel('Predicted')\n",
    "plt.ylabel('True')\n",
    "pl.colorbar()\n",
    "plt.show()"
   ]
  },
  {
   "cell_type": "code",
   "execution_count": 16,
   "metadata": {},
   "outputs": [
    {
     "name": "stdout",
     "output_type": "stream",
     "text": [
      "              precision    recall  f1-score   support\n",
      "\n",
      "    asphalt        1.00      1.00      1.00        45\n",
      "   building        1.00      1.00      1.00        97\n",
      "        car        1.00      1.00      1.00        21\n",
      "   concrete        1.00      1.00      1.00        93\n",
      "      grass        1.00      1.00      1.00        83\n",
      "       pool        1.00      1.00      1.00        14\n",
      "     shadow        1.00      1.00      1.00        45\n",
      "       soil        1.00      1.00      1.00        20\n",
      "       tree        1.00      1.00      1.00        89\n",
      "\n",
      "    accuracy                           1.00       507\n",
      "   macro avg       1.00      1.00      1.00       507\n",
      "weighted avg       1.00      1.00      1.00       507\n",
      "\n"
     ]
    }
   ],
   "source": [
    "print(sm.classification_report(y_train,y_pred_train))"
   ]
  },
  {
   "cell_type": "markdown",
   "metadata": {},
   "source": [
    "**Explanation** - As can be seen from the classification report - precision, recall, f1-score all have value of 1. Also the confusion matrix is showing all classes are classified correctly. This indicates clear overfitting to the training data."
   ]
  },
  {
   "cell_type": "markdown",
   "metadata": {},
   "source": [
    "##### e) Identify the top 5 features. Feel free to print a list OR to make a plot. "
   ]
  },
  {
   "cell_type": "code",
   "execution_count": 17,
   "metadata": {},
   "outputs": [
    {
     "data": {
      "text/html": [
       "<div>\n",
       "<style scoped>\n",
       "    .dataframe tbody tr th:only-of-type {\n",
       "        vertical-align: middle;\n",
       "    }\n",
       "\n",
       "    .dataframe tbody tr th {\n",
       "        vertical-align: top;\n",
       "    }\n",
       "\n",
       "    .dataframe thead th {\n",
       "        text-align: right;\n",
       "    }\n",
       "</style>\n",
       "<table border=\"1\" class=\"dataframe\">\n",
       "  <thead>\n",
       "    <tr style=\"text-align: right;\">\n",
       "      <th></th>\n",
       "      <th>Feature</th>\n",
       "      <th>Importance</th>\n",
       "    </tr>\n",
       "  </thead>\n",
       "  <tbody>\n",
       "    <tr>\n",
       "      <th>18</th>\n",
       "      <td>NDVI</td>\n",
       "      <td>4.275033</td>\n",
       "    </tr>\n",
       "    <tr>\n",
       "      <th>8</th>\n",
       "      <td>Mean_NIR</td>\n",
       "      <td>2.936951</td>\n",
       "    </tr>\n",
       "    <tr>\n",
       "      <th>28</th>\n",
       "      <td>Mean_R_40</td>\n",
       "      <td>2.897001</td>\n",
       "    </tr>\n",
       "    <tr>\n",
       "      <th>60</th>\n",
       "      <td>NDVI_60</td>\n",
       "      <td>2.778715</td>\n",
       "    </tr>\n",
       "    <tr>\n",
       "      <th>29</th>\n",
       "      <td>Mean_NIR_40</td>\n",
       "      <td>2.598406</td>\n",
       "    </tr>\n",
       "  </tbody>\n",
       "</table>\n",
       "</div>"
      ],
      "text/plain": [
       "        Feature  Importance\n",
       "18         NDVI    4.275033\n",
       "8      Mean_NIR    2.936951\n",
       "28    Mean_R_40    2.897001\n",
       "60      NDVI_60    2.778715\n",
       "29  Mean_NIR_40    2.598406"
      ]
     },
     "execution_count": 17,
     "metadata": {},
     "output_type": "execute_result"
    }
   ],
   "source": [
    "featureImp= []\n",
    "for feat, importance in zip(X_train.columns, rf.feature_importances_):\n",
    "    temp = [feat, importance*100]\n",
    "    featureImp.append(temp)\n",
    "fT_df = pd.DataFrame(featureImp, columns = ['Feature', 'Importance'])\n",
    "#print (fT_df.sort_values('Importance', ascending = False))\n",
    "\n",
    "fT_df = fT_df.sort_values('Importance', ascending = False)\n",
    "\n",
    "#Print the top 5 features\n",
    "fT_df[0:5]"
   ]
  },
  {
   "cell_type": "markdown",
   "metadata": {},
   "source": [
    "### 3. LinearSVM Classifier - Base Model:"
   ]
  },
  {
   "cell_type": "markdown",
   "metadata": {},
   "source": [
    "##### a) Use the LinearSVC in sklearn. Fit your model on the training data."
   ]
  },
  {
   "cell_type": "code",
   "execution_count": 18,
   "metadata": {},
   "outputs": [],
   "source": [
    "lsvc = LinearSVC(random_state = 42)"
   ]
  },
  {
   "cell_type": "code",
   "execution_count": 19,
   "metadata": {},
   "outputs": [
    {
     "name": "stderr",
     "output_type": "stream",
     "text": [
      "C:\\Users\\shash\\anaconda3\\lib\\site-packages\\sklearn\\svm\\_base.py:977: ConvergenceWarning: Liblinear failed to converge, increase the number of iterations.\n",
      "  \"the number of iterations.\", ConvergenceWarning)\n"
     ]
    },
    {
     "data": {
      "text/plain": [
       "LinearSVC(random_state=42)"
      ]
     },
     "execution_count": 19,
     "metadata": {},
     "output_type": "execute_result"
    }
   ],
   "source": [
    "lsvc.fit(X_train_scaled, y_train)"
   ]
  },
  {
   "cell_type": "markdown",
   "metadata": {},
   "source": [
    "##### b) Use the fitted model to predict on test data. Use the .predict() method to get the predicted classes."
   ]
  },
  {
   "cell_type": "code",
   "execution_count": 20,
   "metadata": {},
   "outputs": [
    {
     "data": {
      "text/plain": [
       "array(['car ', 'concrete ', 'building ', 'concrete ', 'asphalt ',\n",
       "       'grass ', 'car ', 'car ', 'building ', 'tree ', 'building ',\n",
       "       'asphalt ', 'building ', 'grass ', 'shadow ', 'building ',\n",
       "       'grass ', 'building ', 'building ', 'shadow ', 'pool ', 'shadow ',\n",
       "       'concrete ', 'grass ', 'grass ', 'concrete ', 'grass ',\n",
       "       'building ', 'building ', 'building ', 'asphalt ', 'shadow ',\n",
       "       'soil ', 'grass ', 'grass ', 'building ', 'asphalt ', 'concrete ',\n",
       "       'tree ', 'concrete ', 'soil ', 'tree ', 'building ', 'building ',\n",
       "       'building ', 'grass ', 'grass ', 'shadow ', 'building ', 'soil ',\n",
       "       'shadow ', 'tree ', 'car ', 'car ', 'shadow ', 'pool ',\n",
       "       'building ', 'grass ', 'grass ', 'grass ', 'car ', 'building ',\n",
       "       'pool ', 'car ', 'soil ', 'grass ', 'building ', 'building ',\n",
       "       'building ', 'soil ', 'concrete ', 'building ', 'car ', 'pool ',\n",
       "       'pool ', 'shadow ', 'building ', 'grass ', 'shadow ', 'building ',\n",
       "       'building ', 'pool ', 'building ', 'building ', 'concrete ',\n",
       "       'shadow ', 'building ', 'grass ', 'asphalt ', 'grass ', 'grass ',\n",
       "       'grass ', 'building ', 'concrete ', 'building ', 'grass ', 'pool ',\n",
       "       'tree ', 'shadow ', 'tree ', 'grass ', 'asphalt ', 'grass ',\n",
       "       'building ', 'grass ', 'asphalt ', 'grass ', 'building ', 'car ',\n",
       "       'grass ', 'asphalt ', 'grass ', 'tree ', 'asphalt ', 'concrete ',\n",
       "       'tree ', 'grass ', 'building ', 'concrete ', 'car ', 'car ',\n",
       "       'grass ', 'shadow ', 'pool ', 'tree ', 'asphalt ', 'grass ',\n",
       "       'pool ', 'building ', 'grass ', 'concrete ', 'asphalt ',\n",
       "       'asphalt ', 'concrete ', 'asphalt ', 'grass ', 'asphalt ', 'pool ',\n",
       "       'pool ', 'pool ', 'car ', 'grass ', 'concrete ', 'asphalt ',\n",
       "       'concrete ', 'asphalt ', 'building ', 'shadow ', 'shadow ',\n",
       "       'tree ', 'concrete ', 'car ', 'tree ', 'shadow ', 'concrete ',\n",
       "       'car ', 'soil ', 'tree ', 'asphalt ', 'concrete ', 'grass ',\n",
       "       'grass ', 'tree ', 'car ', 'soil ', 'grass ', 'grass ',\n",
       "       'concrete '], dtype=object)"
      ]
     },
     "execution_count": 20,
     "metadata": {},
     "output_type": "execute_result"
    }
   ],
   "source": [
    "y_pred_lsvc = lsvc.predict(X_test_scaled)\n",
    "y_pred_lsvc"
   ]
  },
  {
   "cell_type": "markdown",
   "metadata": {},
   "source": [
    "##### c) Calculate the confusion matrix and classification report for test data."
   ]
  },
  {
   "cell_type": "code",
   "execution_count": 21,
   "metadata": {},
   "outputs": [
    {
     "data": {
      "text/plain": [
       "array([[13,  0,  0,  0,  0,  0,  1,  0,  0],\n",
       "       [ 0, 21,  1,  1,  1,  0,  0,  1,  0],\n",
       "       [ 0,  2, 12,  0,  0,  0,  0,  0,  1],\n",
       "       [ 1,  6,  1, 15,  0,  0,  0,  0,  0],\n",
       "       [ 0,  0,  0,  1, 26,  0,  0,  0,  2],\n",
       "       [ 1,  1,  1,  0,  0, 12,  0,  0,  0],\n",
       "       [ 2,  0,  0,  0,  0,  0, 14,  0,  0],\n",
       "       [ 0,  4,  0,  1,  3,  0,  0,  6,  0],\n",
       "       [ 0,  0,  0,  1,  6,  0,  0,  0, 10]], dtype=int64)"
      ]
     },
     "execution_count": 21,
     "metadata": {},
     "output_type": "execute_result"
    }
   ],
   "source": [
    "cm_train = sm.confusion_matrix(y_test,y_pred_lsvc)\n",
    "cm_train"
   ]
  },
  {
   "cell_type": "code",
   "execution_count": 22,
   "metadata": {},
   "outputs": [
    {
     "data": {
      "text/plain": [
       "<Figure size 1440x1440 with 0 Axes>"
      ]
     },
     "metadata": {},
     "output_type": "display_data"
    },
    {
     "data": {
      "image/png": "[encoded data removed]",
      "text/plain": [
       "<Figure size 288x288 with 2 Axes>"
      ]
     },
     "metadata": {
      "needs_background": "light"
     },
     "output_type": "display_data"
    }
   ],
   "source": [
    "fig = plt.figure(figsize=(20,20))\n",
    "pl.matshow(cm_train)\n",
    "pl.title('Confusion matrix of the classifier')\n",
    "plt.xlabel('Predicted')\n",
    "plt.ylabel('True')\n",
    "pl.colorbar()\n",
    "plt.show()"
   ]
  },
  {
   "cell_type": "code",
   "execution_count": 23,
   "metadata": {},
   "outputs": [
    {
     "name": "stdout",
     "output_type": "stream",
     "text": [
      "              precision    recall  f1-score   support\n",
      "\n",
      "    asphalt        0.76      0.93      0.84        14\n",
      "   building        0.62      0.84      0.71        25\n",
      "        car        0.80      0.80      0.80        15\n",
      "   concrete        0.79      0.65      0.71        23\n",
      "      grass        0.72      0.90      0.80        29\n",
      "       pool        1.00      0.80      0.89        15\n",
      "     shadow        0.93      0.88      0.90        16\n",
      "       soil        0.86      0.43      0.57        14\n",
      "       tree        0.77      0.59      0.67        17\n",
      "\n",
      "    accuracy                           0.77       168\n",
      "   macro avg       0.81      0.76      0.77       168\n",
      "weighted avg       0.79      0.77      0.76       168\n",
      "\n"
     ]
    }
   ],
   "source": [
    "#Classification report\n",
    "print(sm.classification_report(y_test,y_pred_lsvc))"
   ]
  },
  {
   "cell_type": "markdown",
   "metadata": {},
   "source": [
    "##### d)  Calculate predictions for the training data & build the classification report & confusion matrix. Are there signs of overfitting? Why or why not?"
   ]
  },
  {
   "cell_type": "code",
   "execution_count": 24,
   "metadata": {},
   "outputs": [],
   "source": [
    "y_pred_train_lsvc = lsvc.predict(X_train_scaled)"
   ]
  },
  {
   "cell_type": "code",
   "execution_count": 25,
   "metadata": {},
   "outputs": [
    {
     "data": {
      "text/plain": [
       "array([[45,  0,  0,  0,  0,  0,  0,  0,  0],\n",
       "       [ 0, 97,  0,  0,  0,  0,  0,  0,  0],\n",
       "       [ 0,  0, 21,  0,  0,  0,  0,  0,  0],\n",
       "       [ 0,  0,  0, 93,  0,  0,  0,  0,  0],\n",
       "       [ 0,  1,  0,  0, 80,  0,  0,  0,  2],\n",
       "       [ 0,  0,  0,  0,  0, 14,  0,  0,  0],\n",
       "       [ 0,  0,  0,  0,  0,  0, 45,  0,  0],\n",
       "       [ 0,  0,  0,  0,  0,  0,  0, 20,  0],\n",
       "       [ 0,  0,  0,  0,  0,  0,  0,  0, 89]], dtype=int64)"
      ]
     },
     "execution_count": 25,
     "metadata": {},
     "output_type": "execute_result"
    }
   ],
   "source": [
    "cm_train = sm.confusion_matrix(y_train,y_pred_train_lsvc)\n",
    "cm_train"
   ]
  },
  {
   "cell_type": "code",
   "execution_count": 26,
   "metadata": {},
   "outputs": [
    {
     "data": {
      "text/plain": [
       "<Figure size 1440x1440 with 0 Axes>"
      ]
     },
     "metadata": {},
     "output_type": "display_data"
    },
    {
     "data": {
      "image/png": "[encoded data removed]",
      "text/plain": [
       "<Figure size 288x288 with 2 Axes>"
      ]
     },
     "metadata": {
      "needs_background": "light"
     },
     "output_type": "display_data"
    }
   ],
   "source": [
    "fig = plt.figure(figsize=(20,20))\n",
    "pl.matshow(cm_train)\n",
    "pl.title('Confusion matrix of the classifier')\n",
    "plt.xlabel('Predicted')\n",
    "plt.ylabel('True')\n",
    "pl.colorbar()\n",
    "plt.show()"
   ]
  },
  {
   "cell_type": "code",
   "execution_count": 27,
   "metadata": {},
   "outputs": [
    {
     "name": "stdout",
     "output_type": "stream",
     "text": [
      "              precision    recall  f1-score   support\n",
      "\n",
      "    asphalt        1.00      1.00      1.00        45\n",
      "   building        0.99      1.00      0.99        97\n",
      "        car        1.00      1.00      1.00        21\n",
      "   concrete        1.00      1.00      1.00        93\n",
      "      grass        1.00      0.96      0.98        83\n",
      "       pool        1.00      1.00      1.00        14\n",
      "     shadow        1.00      1.00      1.00        45\n",
      "       soil        1.00      1.00      1.00        20\n",
      "       tree        0.98      1.00      0.99        89\n",
      "\n",
      "    accuracy                           0.99       507\n",
      "   macro avg       1.00      1.00      1.00       507\n",
      "weighted avg       0.99      0.99      0.99       507\n",
      "\n"
     ]
    }
   ],
   "source": [
    "print(sm.classification_report(y_train,y_pred_train_lsvc))"
   ]
  },
  {
   "cell_type": "markdown",
   "metadata": {},
   "source": [
    "**Explanation** - As per the confusion matrix, most of the classes are classified correctly. The precision, recall and f1-score for most of the classes are either 1 or very close to 1. This indicates overfitting to the data."
   ]
  },
  {
   "cell_type": "markdown",
   "metadata": {},
   "source": [
    "### 4. Support Vector Machine Classifier + Linear Kernel + Grid Search:"
   ]
  },
  {
   "cell_type": "markdown",
   "metadata": {},
   "source": [
    "##### a) Use SVC from sklearn with kernel = \"linear\". Run the GridSearchCV using the following (SVMs run much faster than RandomForest):\n",
    "\n",
    "C: 0.01 - 10 in increments of 0.2 (consider using the np.arange() method from numpy to build out a sequence of values)\n",
    "\n",
    "Note: Feel free to try out more parameters, the above is the bare minimum for this assignment.\n",
    "\n",
    "Use 5 cross-fold and the default scoring. Please set verbose = 0 to reduce the printing (sorry to our grader for not specifying this last week!)."
   ]
  },
  {
   "cell_type": "code",
   "execution_count": 28,
   "metadata": {},
   "outputs": [],
   "source": [
    "list_c = [i for i in np.arange(0.01,10,0.2)]\n",
    "param_grid = {\n",
    "    'C' : list_c\n",
    "    }\n",
    "\n",
    "\n",
    "# create SVC Classifier model \n",
    "svc_4 = SVC(kernel='linear', random_state=42)\n",
    "\n",
    "\n",
    "# Create gridsearch object with various combinations of parameters\n",
    "svc_Grid = GridSearchCV(svc_4, param_grid, cv = 5, n_jobs=-1, verbose = 0)"
   ]
  },
  {
   "cell_type": "code",
   "execution_count": 29,
   "metadata": {},
   "outputs": [
    {
     "data": {
      "text/plain": [
       "GridSearchCV(cv=5, estimator=SVC(kernel='linear', random_state=42), n_jobs=-1,\n",
       "             param_grid={'C': [0.01, 0.21000000000000002, 0.41000000000000003,\n",
       "                               0.6100000000000001, 0.81, 1.01,\n",
       "                               1.2100000000000002, 1.4100000000000001, 1.61,\n",
       "                               1.81, 2.01, 2.21, 2.41, 2.61, 2.81, 3.01, 3.21,\n",
       "                               3.41, 3.61, 3.81, 4.01, 4.21, 4.41, 4.61,\n",
       "                               4.8100000000000005, 5.01, 5.21, 5.41, 5.61,\n",
       "                               5.8100000000000005, ...]})"
      ]
     },
     "execution_count": 29,
     "metadata": {},
     "output_type": "execute_result"
    }
   ],
   "source": [
    "svc_Grid.fit(X_train_scaled,y_train)"
   ]
  },
  {
   "cell_type": "markdown",
   "metadata": {},
   "source": [
    "##### b) Identify the best performing model:\n",
    "\n",
    ".best_params_() : This method outputs to best performing parameters  \n",
    ".best_estimator_() : This method outputs the best performing model, and can be used for predicting on the X_test"
   ]
  },
  {
   "cell_type": "code",
   "execution_count": 30,
   "metadata": {},
   "outputs": [
    {
     "data": {
      "text/plain": [
       "{'C': 0.01}"
      ]
     },
     "execution_count": 30,
     "metadata": {},
     "output_type": "execute_result"
    }
   ],
   "source": [
    "svc_Grid.best_params_"
   ]
  },
  {
   "cell_type": "code",
   "execution_count": 31,
   "metadata": {},
   "outputs": [
    {
     "data": {
      "text/plain": [
       "SVC(C=0.01, kernel='linear', random_state=42)"
      ]
     },
     "execution_count": 31,
     "metadata": {},
     "output_type": "execute_result"
    }
   ],
   "source": [
    "svc_Grid.best_estimator_"
   ]
  },
  {
   "cell_type": "markdown",
   "metadata": {},
   "source": [
    "##### c) Use the best estimator model to predict on test data. Use the .predict() method to get the predicted classes."
   ]
  },
  {
   "cell_type": "code",
   "execution_count": 32,
   "metadata": {},
   "outputs": [
    {
     "data": {
      "text/plain": [
       "SVC(C=0.01, kernel='linear', random_state=42)"
      ]
     },
     "execution_count": 32,
     "metadata": {},
     "output_type": "execute_result"
    }
   ],
   "source": [
    "svc_4 = SVC(C=0.01, kernel='linear', random_state=42)\n",
    "\n",
    "svc_4.fit(X_train_scaled,y_train)"
   ]
  },
  {
   "cell_type": "code",
   "execution_count": 33,
   "metadata": {},
   "outputs": [
    {
     "data": {
      "text/plain": [
       "array(['car ', 'concrete ', 'building ', 'concrete ', 'concrete ',\n",
       "       'grass ', 'car ', 'car ', 'building ', 'tree ', 'building ',\n",
       "       'asphalt ', 'building ', 'grass ', 'shadow ', 'building ', 'tree ',\n",
       "       'concrete ', 'building ', 'shadow ', 'pool ', 'shadow ',\n",
       "       'concrete ', 'tree ', 'grass ', 'concrete ', 'grass ', 'building ',\n",
       "       'building ', 'building ', 'asphalt ', 'shadow ', 'concrete ',\n",
       "       'grass ', 'tree ', 'concrete ', 'asphalt ', 'concrete ', 'grass ',\n",
       "       'concrete ', 'concrete ', 'tree ', 'building ', 'building ',\n",
       "       'building ', 'grass ', 'grass ', 'shadow ', 'building ',\n",
       "       'building ', 'shadow ', 'tree ', 'car ', 'car ', 'shadow ',\n",
       "       'pool ', 'building ', 'tree ', 'grass ', 'grass ', 'car ', 'car ',\n",
       "       'pool ', 'building ', 'soil ', 'grass ', 'building ', 'building ',\n",
       "       'building ', 'soil ', 'concrete ', 'building ', 'shadow ', 'pool ',\n",
       "       'pool ', 'shadow ', 'building ', 'grass ', 'shadow ', 'building ',\n",
       "       'pool ', 'pool ', 'building ', 'building ', 'building ', 'shadow ',\n",
       "       'building ', 'soil ', 'asphalt ', 'grass ', 'grass ', 'grass ',\n",
       "       'building ', 'concrete ', 'concrete ', 'grass ', 'pool ', 'car ',\n",
       "       'shadow ', 'tree ', 'grass ', 'asphalt ', 'tree ', 'car ', 'tree ',\n",
       "       'asphalt ', 'grass ', 'building ', 'soil ', 'grass ', 'asphalt ',\n",
       "       'grass ', 'grass ', 'pool ', 'concrete ', 'tree ', 'grass ',\n",
       "       'concrete ', 'concrete ', 'car ', 'car ', 'grass ', 'shadow ',\n",
       "       'pool ', 'tree ', 'asphalt ', 'grass ', 'pool ', 'building ',\n",
       "       'grass ', 'concrete ', 'asphalt ', 'asphalt ', 'concrete ',\n",
       "       'asphalt ', 'grass ', 'shadow ', 'pool ', 'pool ', 'pool ', 'car ',\n",
       "       'grass ', 'concrete ', 'asphalt ', 'concrete ', 'asphalt ',\n",
       "       'building ', 'shadow ', 'shadow ', 'tree ', 'concrete ', 'car ',\n",
       "       'tree ', 'shadow ', 'concrete ', 'building ', 'concrete ', 'tree ',\n",
       "       'asphalt ', 'concrete ', 'grass ', 'tree ', 'tree ', 'car ',\n",
       "       'soil ', 'grass ', 'grass ', 'concrete '], dtype=object)"
      ]
     },
     "execution_count": 33,
     "metadata": {},
     "output_type": "execute_result"
    }
   ],
   "source": [
    "y_pred_svc_4 = svc_4.predict(X_test_scaled)\n",
    "y_pred_svc_4 "
   ]
  },
  {
   "cell_type": "markdown",
   "metadata": {},
   "source": [
    "##### d) Calculate the confusion matrix and classification report for test data."
   ]
  },
  {
   "cell_type": "code",
   "execution_count": 34,
   "metadata": {},
   "outputs": [
    {
     "data": {
      "text/plain": [
       "array([[13,  0,  0,  0,  0,  0,  1,  0,  0],\n",
       "       [ 0, 22,  0,  2,  1,  0,  0,  0,  0],\n",
       "       [ 0,  1, 14,  0,  0,  0,  0,  0,  0],\n",
       "       [ 0,  5,  0, 17,  0,  0,  0,  1,  0],\n",
       "       [ 0,  0,  0,  1, 25,  0,  0,  0,  3],\n",
       "       [ 0,  0,  0,  0,  0, 14,  1,  0,  0],\n",
       "       [ 1,  0,  0,  0,  0,  0, 15,  0,  0],\n",
       "       [ 0,  3,  0,  5,  2,  0,  0,  4,  0],\n",
       "       [ 0,  0,  0,  1,  2,  0,  0,  0, 14]], dtype=int64)"
      ]
     },
     "execution_count": 34,
     "metadata": {},
     "output_type": "execute_result"
    }
   ],
   "source": [
    "cm_train = sm.confusion_matrix(y_test,y_pred_svc_4)\n",
    "cm_train"
   ]
  },
  {
   "cell_type": "code",
   "execution_count": 35,
   "metadata": {},
   "outputs": [
    {
     "data": {
      "text/plain": [
       "<Figure size 1440x1440 with 0 Axes>"
      ]
     },
     "metadata": {},
     "output_type": "display_data"
    },
    {
     "data": {
      "image/png": "[encoded data removed]",
      "text/plain": [
       "<Figure size 288x288 with 2 Axes>"
      ]
     },
     "metadata": {
      "needs_background": "light"
     },
     "output_type": "display_data"
    }
   ],
   "source": [
    "fig = plt.figure(figsize=(20,20))\n",
    "pl.matshow(cm_train)\n",
    "pl.title('Confusion matrix of the classifier')\n",
    "plt.xlabel('Predicted')\n",
    "plt.ylabel('True')\n",
    "pl.colorbar()\n",
    "plt.show()"
   ]
  },
  {
   "cell_type": "code",
   "execution_count": 36,
   "metadata": {},
   "outputs": [
    {
     "name": "stdout",
     "output_type": "stream",
     "text": [
      "              precision    recall  f1-score   support\n",
      "\n",
      "    asphalt        0.93      0.93      0.93        14\n",
      "   building        0.71      0.88      0.79        25\n",
      "        car        1.00      0.93      0.97        15\n",
      "   concrete        0.65      0.74      0.69        23\n",
      "      grass        0.83      0.86      0.85        29\n",
      "       pool        1.00      0.93      0.97        15\n",
      "     shadow        0.88      0.94      0.91        16\n",
      "       soil        0.80      0.29      0.42        14\n",
      "       tree        0.82      0.82      0.82        17\n",
      "\n",
      "    accuracy                           0.82       168\n",
      "   macro avg       0.85      0.81      0.82       168\n",
      "weighted avg       0.83      0.82      0.81       168\n",
      "\n"
     ]
    }
   ],
   "source": [
    "print(sm.classification_report(y_test,y_pred_svc_4))"
   ]
  },
  {
   "cell_type": "markdown",
   "metadata": {},
   "source": [
    "##### e)  Calculate predictions for the training data & build the classification report & confusion matrix. Are there signs of overfitting? Why or why not?"
   ]
  },
  {
   "cell_type": "code",
   "execution_count": 37,
   "metadata": {},
   "outputs": [],
   "source": [
    "y_pred_train = svc_4.predict(X_train_scaled)"
   ]
  },
  {
   "cell_type": "code",
   "execution_count": 38,
   "metadata": {},
   "outputs": [
    {
     "data": {
      "text/plain": [
       "array([[40,  0,  0,  0,  0,  0,  5,  0,  0],\n",
       "       [ 2, 87,  0,  7,  0,  0,  1,  0,  0],\n",
       "       [ 0,  1, 19,  1,  0,  0,  0,  0,  0],\n",
       "       [ 0,  9,  0, 83,  1,  0,  0,  0,  0],\n",
       "       [ 0,  1,  0,  0, 70,  0,  0,  0, 12],\n",
       "       [ 0,  1,  0,  0,  1, 12,  0,  0,  0],\n",
       "       [ 1,  0,  0,  0,  0,  0, 43,  0,  1],\n",
       "       [ 0,  3,  0,  4,  2,  0,  0, 11,  0],\n",
       "       [ 0,  0,  0,  0,  3,  0,  1,  0, 85]], dtype=int64)"
      ]
     },
     "execution_count": 38,
     "metadata": {},
     "output_type": "execute_result"
    }
   ],
   "source": [
    "cm_train = sm.confusion_matrix(y_train,y_pred_train)\n",
    "cm_train"
   ]
  },
  {
   "cell_type": "code",
   "execution_count": 39,
   "metadata": {},
   "outputs": [
    {
     "data": {
      "text/plain": [
       "<Figure size 1440x1440 with 0 Axes>"
      ]
     },
     "metadata": {},
     "output_type": "display_data"
    },
    {
     "data": {
      "image/png": "[encoded data removed]",
      "text/plain": [
       "<Figure size 288x288 with 2 Axes>"
      ]
     },
     "metadata": {
      "needs_background": "light"
     },
     "output_type": "display_data"
    }
   ],
   "source": [
    "fig = plt.figure(figsize=(20,20))\n",
    "pl.matshow(cm_train)\n",
    "pl.title('Confusion matrix of the classifier')\n",
    "plt.xlabel('Predicted')\n",
    "plt.ylabel('True')\n",
    "pl.colorbar()\n",
    "plt.show()"
   ]
  },
  {
   "cell_type": "code",
   "execution_count": 40,
   "metadata": {},
   "outputs": [
    {
     "name": "stdout",
     "output_type": "stream",
     "text": [
      "              precision    recall  f1-score   support\n",
      "\n",
      "    asphalt        0.93      0.89      0.91        45\n",
      "   building        0.85      0.90      0.87        97\n",
      "        car        1.00      0.90      0.95        21\n",
      "   concrete        0.87      0.89      0.88        93\n",
      "      grass        0.91      0.84      0.88        83\n",
      "       pool        1.00      0.86      0.92        14\n",
      "     shadow        0.86      0.96      0.91        45\n",
      "       soil        1.00      0.55      0.71        20\n",
      "       tree        0.87      0.96      0.91        89\n",
      "\n",
      "    accuracy                           0.89       507\n",
      "   macro avg       0.92      0.86      0.88       507\n",
      "weighted avg       0.89      0.89      0.89       507\n",
      "\n"
     ]
    }
   ],
   "source": [
    "print(sm.classification_report(y_train,y_pred_train))"
   ]
  },
  {
   "cell_type": "markdown",
   "metadata": {},
   "source": [
    "**Explanation** - This model is performing better than the random forest and linear svc with better test accuracy. None of the parameter - precision, recall and f1-score are close to 1. Moreover, the parameters for test and train are very close indicating there is no overfitting."
   ]
  },
  {
   "cell_type": "markdown",
   "metadata": {},
   "source": [
    "### 5. Support Vector Machine Classifier + Polynomial Kernel + Grid Search:\n",
    "\n",
    "We will now use GridSearchCV to try various hyperparameters in a SVM with a polynomial kernel."
   ]
  },
  {
   "cell_type": "markdown",
   "metadata": {},
   "source": [
    "##### a) Use SVC from sklearn with kernel = \"poly\". Run the GridSearchCV using the following:\n",
    "\n",
    "C: 0.01 - 10 in increments of 0.2  \n",
    "degree: 2, 3, 4, 5, 6\n",
    "\n",
    "Note: Feel free to try out more parameters, the above is the bare minimum for this assignment.\n",
    "\n",
    "Use 5 cross-fold and the default scoring."
   ]
  },
  {
   "cell_type": "code",
   "execution_count": 41,
   "metadata": {},
   "outputs": [],
   "source": [
    "list_c = [i for i in np.arange(0.01,10,0.2)]\n",
    "param_grid = {\n",
    "    'C' : list_c,\n",
    "    'degree' : [2,3,4,5,6]\n",
    "    }\n",
    "\n",
    "\n",
    "# create SVC Classifier model \n",
    "svc_5 = SVC(kernel='poly', random_state=42)\n",
    "\n",
    "\n",
    "# Create gridsearch object with various combinations of parameters\n",
    "svc5_Grid = GridSearchCV(svc_5, param_grid, cv = 5, n_jobs=-1, verbose = 0)"
   ]
  },
  {
   "cell_type": "code",
   "execution_count": 42,
   "metadata": {},
   "outputs": [
    {
     "data": {
      "text/plain": [
       "GridSearchCV(cv=5, estimator=SVC(kernel='poly', random_state=42), n_jobs=-1,\n",
       "             param_grid={'C': [0.01, 0.21000000000000002, 0.41000000000000003,\n",
       "                               0.6100000000000001, 0.81, 1.01,\n",
       "                               1.2100000000000002, 1.4100000000000001, 1.61,\n",
       "                               1.81, 2.01, 2.21, 2.41, 2.61, 2.81, 3.01, 3.21,\n",
       "                               3.41, 3.61, 3.81, 4.01, 4.21, 4.41, 4.61,\n",
       "                               4.8100000000000005, 5.01, 5.21, 5.41, 5.61,\n",
       "                               5.8100000000000005, ...],\n",
       "                         'degree': [2, 3, 4, 5, 6]})"
      ]
     },
     "execution_count": 42,
     "metadata": {},
     "output_type": "execute_result"
    }
   ],
   "source": [
    "svc5_Grid.fit(X_train_scaled,y_train)"
   ]
  },
  {
   "cell_type": "markdown",
   "metadata": {},
   "source": [
    "##### b) Identify the best performing model:\n",
    "\n",
    ".best_params_() : This method outputs to best performing parameters  \n",
    ".best_estimator_() : This method outputs the best performing model, and can be used for predicting on the X_test"
   ]
  },
  {
   "cell_type": "code",
   "execution_count": 43,
   "metadata": {},
   "outputs": [
    {
     "data": {
      "text/plain": [
       "{'C': 3.81, 'degree': 3}"
      ]
     },
     "execution_count": 43,
     "metadata": {},
     "output_type": "execute_result"
    }
   ],
   "source": [
    "svc5_Grid.best_params_"
   ]
  },
  {
   "cell_type": "code",
   "execution_count": 44,
   "metadata": {},
   "outputs": [
    {
     "data": {
      "text/plain": [
       "SVC(C=3.81, kernel='poly', random_state=42)"
      ]
     },
     "execution_count": 44,
     "metadata": {},
     "output_type": "execute_result"
    }
   ],
   "source": [
    "svc5_Grid.best_estimator_"
   ]
  },
  {
   "cell_type": "markdown",
   "metadata": {},
   "source": [
    "##### c) Use the best estimator model to predict on test data. Use the .predict() method to get the predicted classes."
   ]
  },
  {
   "cell_type": "code",
   "execution_count": 45,
   "metadata": {},
   "outputs": [
    {
     "data": {
      "text/plain": [
       "SVC(C=3.81, kernel='poly', random_state=42)"
      ]
     },
     "execution_count": 45,
     "metadata": {},
     "output_type": "execute_result"
    }
   ],
   "source": [
    "svc_5 = SVC(C=3.81, kernel='poly', random_state=42, degree = 3)\n",
    "\n",
    "svc_5.fit(X_train_scaled,y_train)"
   ]
  },
  {
   "cell_type": "code",
   "execution_count": 46,
   "metadata": {},
   "outputs": [
    {
     "data": {
      "text/plain": [
       "array(['soil ', 'concrete ', 'building ', 'concrete ', 'concrete ',\n",
       "       'grass ', 'car ', 'car ', 'building ', 'tree ', 'building ',\n",
       "       'asphalt ', 'building ', 'soil ', 'shadow ', 'building ', 'tree ',\n",
       "       'concrete ', 'building ', 'shadow ', 'pool ', 'asphalt ',\n",
       "       'concrete ', 'grass ', 'grass ', 'concrete ', 'grass ',\n",
       "       'building ', 'building ', 'building ', 'asphalt ', 'shadow ',\n",
       "       'concrete ', 'grass ', 'tree ', 'concrete ', 'asphalt ',\n",
       "       'concrete ', 'grass ', 'concrete ', 'concrete ', 'tree ',\n",
       "       'building ', 'building ', 'building ', 'grass ', 'grass ',\n",
       "       'shadow ', 'building ', 'grass ', 'shadow ', 'tree ', 'car ',\n",
       "       'car ', 'shadow ', 'pool ', 'building ', 'tree ', 'grass ',\n",
       "       'grass ', 'car ', 'car ', 'pool ', 'building ', 'grass ', 'grass ',\n",
       "       'building ', 'building ', 'building ', 'grass ', 'concrete ',\n",
       "       'building ', 'shadow ', 'pool ', 'pool ', 'shadow ', 'building ',\n",
       "       'grass ', 'shadow ', 'building ', 'pool ', 'pool ', 'building ',\n",
       "       'building ', 'building ', 'shadow ', 'building ', 'grass ',\n",
       "       'asphalt ', 'grass ', 'grass ', 'grass ', 'building ', 'concrete ',\n",
       "       'concrete ', 'grass ', 'pool ', 'car ', 'shadow ', 'tree ',\n",
       "       'grass ', 'asphalt ', 'grass ', 'car ', 'tree ', 'asphalt ',\n",
       "       'grass ', 'building ', 'concrete ', 'grass ', 'asphalt ', 'grass ',\n",
       "       'grass ', 'pool ', 'concrete ', 'tree ', 'grass ', 'concrete ',\n",
       "       'concrete ', 'car ', 'car ', 'grass ', 'shadow ', 'pool ', 'tree ',\n",
       "       'tree ', 'grass ', 'pool ', 'building ', 'grass ', 'concrete ',\n",
       "       'asphalt ', 'asphalt ', 'concrete ', 'asphalt ', 'grass ',\n",
       "       'shadow ', 'pool ', 'pool ', 'pool ', 'building ', 'grass ',\n",
       "       'grass ', 'asphalt ', 'concrete ', 'asphalt ', 'building ',\n",
       "       'shadow ', 'shadow ', 'tree ', 'grass ', 'pool ', 'tree ',\n",
       "       'shadow ', 'concrete ', 'building ', 'concrete ', 'tree ',\n",
       "       'asphalt ', 'concrete ', 'grass ', 'tree ', 'tree ', 'car ',\n",
       "       'grass ', 'grass ', 'grass ', 'concrete '], dtype=object)"
      ]
     },
     "execution_count": 46,
     "metadata": {},
     "output_type": "execute_result"
    }
   ],
   "source": [
    "y_pred_svc_5 = svc_5.predict(X_test_scaled)\n",
    "y_pred_svc_5 "
   ]
  },
  {
   "cell_type": "markdown",
   "metadata": {},
   "source": [
    "##### d) Calculate the confusion matrix and classification report for test data."
   ]
  },
  {
   "cell_type": "code",
   "execution_count": 47,
   "metadata": {},
   "outputs": [
    {
     "data": {
      "text/plain": [
       "array([[13,  0,  0,  0,  0,  0,  1,  0,  0],\n",
       "       [ 0, 22,  0,  2,  1,  0,  0,  0,  0],\n",
       "       [ 0,  2, 11,  0,  0,  1,  0,  1,  0],\n",
       "       [ 0,  5,  0, 17,  1,  0,  0,  0,  0],\n",
       "       [ 0,  0,  0,  0, 26,  0,  0,  1,  2],\n",
       "       [ 0,  0,  0,  0,  0, 14,  1,  0,  0],\n",
       "       [ 1,  0,  0,  0,  0,  0, 14,  0,  1],\n",
       "       [ 0,  2,  0,  5,  7,  0,  0,  0,  0],\n",
       "       [ 0,  0,  0,  1,  3,  0,  0,  0, 13]], dtype=int64)"
      ]
     },
     "execution_count": 47,
     "metadata": {},
     "output_type": "execute_result"
    }
   ],
   "source": [
    "cm_train = sm.confusion_matrix(y_test,y_pred_svc_5)\n",
    "cm_train"
   ]
  },
  {
   "cell_type": "code",
   "execution_count": 48,
   "metadata": {},
   "outputs": [
    {
     "data": {
      "text/plain": [
       "<Figure size 1440x1440 with 0 Axes>"
      ]
     },
     "metadata": {},
     "output_type": "display_data"
    },
    {
     "data": {
      "image/png": "[encoded data removed]",
      "text/plain": [
       "<Figure size 288x288 with 2 Axes>"
      ]
     },
     "metadata": {
      "needs_background": "light"
     },
     "output_type": "display_data"
    }
   ],
   "source": [
    "fig = plt.figure(figsize=(20,20))\n",
    "pl.matshow(cm_train)\n",
    "pl.title('Confusion matrix of the classifier')\n",
    "plt.xlabel('Predicted')\n",
    "plt.ylabel('True')\n",
    "pl.colorbar()\n",
    "plt.show()"
   ]
  },
  {
   "cell_type": "code",
   "execution_count": 49,
   "metadata": {},
   "outputs": [
    {
     "name": "stdout",
     "output_type": "stream",
     "text": [
      "              precision    recall  f1-score   support\n",
      "\n",
      "    asphalt        0.93      0.93      0.93        14\n",
      "   building        0.71      0.88      0.79        25\n",
      "        car        1.00      0.73      0.85        15\n",
      "   concrete        0.68      0.74      0.71        23\n",
      "      grass        0.68      0.90      0.78        29\n",
      "       pool        0.93      0.93      0.93        15\n",
      "     shadow        0.88      0.88      0.88        16\n",
      "       soil        0.00      0.00      0.00        14\n",
      "       tree        0.81      0.76      0.79        17\n",
      "\n",
      "    accuracy                           0.77       168\n",
      "   macro avg       0.74      0.75      0.74       168\n",
      "weighted avg       0.73      0.77      0.75       168\n",
      "\n"
     ]
    }
   ],
   "source": [
    "print(sm.classification_report(y_test,y_pred_svc_5))"
   ]
  },
  {
   "cell_type": "markdown",
   "metadata": {},
   "source": [
    "##### e)  Calculate predictions for the training data & build the classification report & confusion matrix. Are there signs of overfitting? Why or why not?"
   ]
  },
  {
   "cell_type": "code",
   "execution_count": 50,
   "metadata": {},
   "outputs": [],
   "source": [
    "y_pred_train = svc_5.predict(X_train_scaled)"
   ]
  },
  {
   "cell_type": "code",
   "execution_count": 51,
   "metadata": {},
   "outputs": [
    {
     "data": {
      "text/plain": [
       "array([[44,  0,  0,  0,  1,  0,  0,  0,  0],\n",
       "       [ 0, 95,  0,  1,  1,  0,  0,  0,  0],\n",
       "       [ 0,  0, 20,  0,  1,  0,  0,  0,  0],\n",
       "       [ 0,  1,  0, 91,  1,  0,  0,  0,  0],\n",
       "       [ 0,  1,  0,  0, 81,  0,  0,  0,  1],\n",
       "       [ 0,  0,  0,  0,  1, 13,  0,  0,  0],\n",
       "       [ 0,  0,  0,  0,  0,  0, 45,  0,  0],\n",
       "       [ 0,  0,  0,  0, 11,  0,  0,  9,  0],\n",
       "       [ 0,  0,  0,  0,  5,  0,  0,  0, 84]], dtype=int64)"
      ]
     },
     "execution_count": 51,
     "metadata": {},
     "output_type": "execute_result"
    }
   ],
   "source": [
    "cm_train = sm.confusion_matrix(y_train,y_pred_train)\n",
    "cm_train"
   ]
  },
  {
   "cell_type": "code",
   "execution_count": 52,
   "metadata": {},
   "outputs": [
    {
     "data": {
      "text/plain": [
       "<Figure size 1440x1440 with 0 Axes>"
      ]
     },
     "metadata": {},
     "output_type": "display_data"
    },
    {
     "data": {
      "image/png": "[encoded data removed]",
      "text/plain": [
       "<Figure size 288x288 with 2 Axes>"
      ]
     },
     "metadata": {
      "needs_background": "light"
     },
     "output_type": "display_data"
    }
   ],
   "source": [
    "fig = plt.figure(figsize=(20,20))\n",
    "pl.matshow(cm_train)\n",
    "pl.title('Confusion matrix of the classifier')\n",
    "plt.xlabel('Predicted')\n",
    "plt.ylabel('True')\n",
    "pl.colorbar()\n",
    "plt.show()"
   ]
  },
  {
   "cell_type": "code",
   "execution_count": 53,
   "metadata": {},
   "outputs": [
    {
     "name": "stdout",
     "output_type": "stream",
     "text": [
      "              precision    recall  f1-score   support\n",
      "\n",
      "    asphalt        1.00      0.98      0.99        45\n",
      "   building        0.98      0.98      0.98        97\n",
      "        car        1.00      0.95      0.98        21\n",
      "   concrete        0.99      0.98      0.98        93\n",
      "      grass        0.79      0.98      0.88        83\n",
      "       pool        1.00      0.93      0.96        14\n",
      "     shadow        1.00      1.00      1.00        45\n",
      "       soil        1.00      0.45      0.62        20\n",
      "       tree        0.99      0.94      0.97        89\n",
      "\n",
      "    accuracy                           0.95       507\n",
      "   macro avg       0.97      0.91      0.93       507\n",
      "weighted avg       0.96      0.95      0.95       507\n",
      "\n"
     ]
    }
   ],
   "source": [
    "print(sm.classification_report(y_train,y_pred_train))"
   ]
  },
  {
   "cell_type": "markdown",
   "metadata": {},
   "source": [
    "**Explanation** - As per the confusion matrix, most of the classes are classified correctly. The precision, recall and f1-score for most of the classes are either 1 or very close to 1. The accuracy score of test is 0.77 and for train it is 0.95. All of these parameters indicate overfitting to the data."
   ]
  },
  {
   "cell_type": "markdown",
   "metadata": {},
   "source": [
    "### 6. Support Vector Machine Classifier + RBF Kernel + Grid Search:\n",
    "\n",
    "We will now use GridSearchCV to try various hyperparameters in a SVM with a RBF kernel."
   ]
  },
  {
   "cell_type": "markdown",
   "metadata": {},
   "source": [
    "##### a) Use SVC from sklearn with kernel = \"rbf\". Run the GridSearchCV using the following:\n",
    "\n",
    "C: 0.01 - 10 in increments of 0.2  \n",
    "gamma: 0.01,  0.1, 1, 10, 100\n",
    "\n",
    "Note: Feel free to try out more parameters, the above is the bare minimum for this assignment.\n",
    "\n",
    "Use 5 cross-fold and the default scoring."
   ]
  },
  {
   "cell_type": "code",
   "execution_count": 54,
   "metadata": {},
   "outputs": [],
   "source": [
    "list_c = [i for i in np.arange(0.01,10,0.2)]\n",
    "param_grid = {\n",
    "    'C' : list_c,\n",
    "    'gamma' : [0.01,0.1,1,10,100]\n",
    "    }\n",
    "\n",
    "\n",
    "# create SVC Classifier model \n",
    "svc_6 = SVC(kernel='rbf', random_state=42)\n",
    "\n",
    "\n",
    "# Create gridsearch object with various combinations of parameters\n",
    "svc6_Grid = GridSearchCV(svc_6, param_grid, cv = 5, n_jobs=-1, verbose = 0)"
   ]
  },
  {
   "cell_type": "code",
   "execution_count": 55,
   "metadata": {},
   "outputs": [
    {
     "data": {
      "text/plain": [
       "GridSearchCV(cv=5, estimator=SVC(random_state=42), n_jobs=-1,\n",
       "             param_grid={'C': [0.01, 0.21000000000000002, 0.41000000000000003,\n",
       "                               0.6100000000000001, 0.81, 1.01,\n",
       "                               1.2100000000000002, 1.4100000000000001, 1.61,\n",
       "                               1.81, 2.01, 2.21, 2.41, 2.61, 2.81, 3.01, 3.21,\n",
       "                               3.41, 3.61, 3.81, 4.01, 4.21, 4.41, 4.61,\n",
       "                               4.8100000000000005, 5.01, 5.21, 5.41, 5.61,\n",
       "                               5.8100000000000005, ...],\n",
       "                         'gamma': [0.01, 0.1, 1, 10, 100]})"
      ]
     },
     "execution_count": 55,
     "metadata": {},
     "output_type": "execute_result"
    }
   ],
   "source": [
    "svc6_Grid.fit(X_train_scaled,y_train)"
   ]
  },
  {
   "cell_type": "markdown",
   "metadata": {},
   "source": [
    "##### b) Identify the best performing model:\n",
    "\n",
    ".best_params_() : This method outputs to best performing parameters  \n",
    ".best_estimator_() : This method outputs the best performing model, and can be used for predicting on the X_test"
   ]
  },
  {
   "cell_type": "code",
   "execution_count": 56,
   "metadata": {},
   "outputs": [
    {
     "data": {
      "text/plain": [
       "{'C': 2.81, 'gamma': 0.01}"
      ]
     },
     "execution_count": 56,
     "metadata": {},
     "output_type": "execute_result"
    }
   ],
   "source": [
    "svc6_Grid.best_params_"
   ]
  },
  {
   "cell_type": "code",
   "execution_count": 57,
   "metadata": {},
   "outputs": [
    {
     "data": {
      "text/plain": [
       "SVC(C=2.81, gamma=0.01, random_state=42)"
      ]
     },
     "execution_count": 57,
     "metadata": {},
     "output_type": "execute_result"
    }
   ],
   "source": [
    "svc6_Grid.best_estimator_"
   ]
  },
  {
   "cell_type": "markdown",
   "metadata": {},
   "source": [
    "##### c) Use the best estimator model to predict on test data. Use the .predict() method to get the predicted classes."
   ]
  },
  {
   "cell_type": "code",
   "execution_count": 58,
   "metadata": {},
   "outputs": [
    {
     "data": {
      "text/plain": [
       "SVC(C=2.81, gamma=0.01, random_state=42)"
      ]
     },
     "execution_count": 58,
     "metadata": {},
     "output_type": "execute_result"
    }
   ],
   "source": [
    "svc_6 = SVC(C=2.81, gamma=0.01, random_state=42)\n",
    "\n",
    "svc_6.fit(X_train_scaled,y_train)"
   ]
  },
  {
   "cell_type": "code",
   "execution_count": 59,
   "metadata": {},
   "outputs": [
    {
     "data": {
      "text/plain": [
       "array(['car ', 'concrete ', 'building ', 'concrete ', 'concrete ',\n",
       "       'grass ', 'car ', 'car ', 'building ', 'tree ', 'building ',\n",
       "       'asphalt ', 'building ', 'building ', 'shadow ', 'building ',\n",
       "       'tree ', 'building ', 'building ', 'shadow ', 'pool ', 'asphalt ',\n",
       "       'concrete ', 'tree ', 'grass ', 'concrete ', 'grass ', 'building ',\n",
       "       'building ', 'building ', 'asphalt ', 'shadow ', 'concrete ',\n",
       "       'grass ', 'tree ', 'concrete ', 'asphalt ', 'concrete ', 'tree ',\n",
       "       'concrete ', 'concrete ', 'tree ', 'building ', 'building ',\n",
       "       'building ', 'grass ', 'grass ', 'shadow ', 'soil ', 'soil ',\n",
       "       'shadow ', 'tree ', 'car ', 'car ', 'shadow ', 'pool ',\n",
       "       'building ', 'tree ', 'grass ', 'grass ', 'car ', 'car ', 'pool ',\n",
       "       'car ', 'soil ', 'grass ', 'building ', 'building ', 'building ',\n",
       "       'soil ', 'concrete ', 'building ', 'shadow ', 'pool ', 'pool ',\n",
       "       'shadow ', 'building ', 'grass ', 'shadow ', 'building ', 'pool ',\n",
       "       'pool ', 'building ', 'building ', 'building ', 'shadow ',\n",
       "       'concrete ', 'grass ', 'asphalt ', 'grass ', 'grass ', 'grass ',\n",
       "       'concrete ', 'concrete ', 'concrete ', 'grass ', 'pool ', 'car ',\n",
       "       'shadow ', 'tree ', 'grass ', 'asphalt ', 'grass ', 'car ',\n",
       "       'tree ', 'asphalt ', 'grass ', 'building ', 'concrete ', 'grass ',\n",
       "       'asphalt ', 'grass ', 'grass ', 'pool ', 'concrete ', 'tree ',\n",
       "       'grass ', 'concrete ', 'concrete ', 'car ', 'car ', 'grass ',\n",
       "       'shadow ', 'pool ', 'tree ', 'shadow ', 'grass ', 'pool ',\n",
       "       'building ', 'grass ', 'concrete ', 'asphalt ', 'asphalt ',\n",
       "       'concrete ', 'asphalt ', 'grass ', 'shadow ', 'pool ', 'pool ',\n",
       "       'pool ', 'building ', 'grass ', 'concrete ', 'asphalt ',\n",
       "       'concrete ', 'asphalt ', 'building ', 'shadow ', 'shadow ',\n",
       "       'tree ', 'grass ', 'car ', 'tree ', 'shadow ', 'concrete ',\n",
       "       'building ', 'concrete ', 'tree ', 'asphalt ', 'concrete ',\n",
       "       'grass ', 'tree ', 'tree ', 'car ', 'soil ', 'grass ', 'grass ',\n",
       "       'concrete '], dtype=object)"
      ]
     },
     "execution_count": 59,
     "metadata": {},
     "output_type": "execute_result"
    }
   ],
   "source": [
    "y_pred_svc_6 = svc_6.predict(X_test_scaled)\n",
    "y_pred_svc_6 "
   ]
  },
  {
   "cell_type": "markdown",
   "metadata": {},
   "source": [
    "##### d) Calculate the confusion matrix and classification report for test data."
   ]
  },
  {
   "cell_type": "code",
   "execution_count": 60,
   "metadata": {},
   "outputs": [
    {
     "data": {
      "text/plain": [
       "array([[13,  0,  0,  0,  0,  0,  1,  0,  0],\n",
       "       [ 0, 21,  0,  3,  1,  0,  0,  0,  0],\n",
       "       [ 0,  1, 14,  0,  0,  0,  0,  0,  0],\n",
       "       [ 0,  4,  0, 19,  0,  0,  0,  0,  0],\n",
       "       [ 0,  1,  0,  0, 26,  0,  0,  0,  2],\n",
       "       [ 0,  0,  0,  0,  0, 14,  1,  0,  0],\n",
       "       [ 1,  0,  0,  0,  0,  0, 15,  0,  0],\n",
       "       [ 0,  2,  0,  4,  3,  0,  0,  5,  0],\n",
       "       [ 0,  0,  0,  1,  1,  0,  0,  0, 15]], dtype=int64)"
      ]
     },
     "execution_count": 60,
     "metadata": {},
     "output_type": "execute_result"
    }
   ],
   "source": [
    "cm_train = sm.confusion_matrix(y_test,y_pred_svc_6)\n",
    "cm_train"
   ]
  },
  {
   "cell_type": "code",
   "execution_count": 61,
   "metadata": {},
   "outputs": [
    {
     "data": {
      "text/plain": [
       "<Figure size 1440x1440 with 0 Axes>"
      ]
     },
     "metadata": {},
     "output_type": "display_data"
    },
    {
     "data": {
      "image/png": "[encoded data removed]",
      "text/plain": [
       "<Figure size 288x288 with 2 Axes>"
      ]
     },
     "metadata": {
      "needs_background": "light"
     },
     "output_type": "display_data"
    }
   ],
   "source": [
    "fig = plt.figure(figsize=(20,20))\n",
    "pl.matshow(cm_train)\n",
    "pl.title('Confusion matrix of the classifier')\n",
    "plt.xlabel('Predicted')\n",
    "plt.ylabel('True')\n",
    "pl.colorbar()\n",
    "plt.show()"
   ]
  },
  {
   "cell_type": "code",
   "execution_count": 62,
   "metadata": {},
   "outputs": [
    {
     "name": "stdout",
     "output_type": "stream",
     "text": [
      "              precision    recall  f1-score   support\n",
      "\n",
      "    asphalt        0.93      0.93      0.93        14\n",
      "   building        0.72      0.84      0.78        25\n",
      "        car        1.00      0.93      0.97        15\n",
      "   concrete        0.70      0.83      0.76        23\n",
      "      grass        0.84      0.90      0.87        29\n",
      "       pool        1.00      0.93      0.97        15\n",
      "     shadow        0.88      0.94      0.91        16\n",
      "       soil        1.00      0.36      0.53        14\n",
      "       tree        0.88      0.88      0.88        17\n",
      "\n",
      "    accuracy                           0.85       168\n",
      "   macro avg       0.88      0.84      0.84       168\n",
      "weighted avg       0.86      0.85      0.84       168\n",
      "\n"
     ]
    }
   ],
   "source": [
    "print(sm.classification_report(y_test,y_pred_svc_6))"
   ]
  },
  {
   "cell_type": "markdown",
   "metadata": {},
   "source": [
    "##### e)  Calculate predictions for the training data & build the classification report & confusion matrix. Are there signs of overfitting? Why or why not?"
   ]
  },
  {
   "cell_type": "code",
   "execution_count": 63,
   "metadata": {},
   "outputs": [],
   "source": [
    "y_pred_train = svc_6.predict(X_train_scaled)"
   ]
  },
  {
   "cell_type": "code",
   "execution_count": 64,
   "metadata": {},
   "outputs": [
    {
     "data": {
      "text/plain": [
       "array([[45,  0,  0,  0,  0,  0,  0,  0,  0],\n",
       "       [ 0, 96,  0,  1,  0,  0,  0,  0,  0],\n",
       "       [ 0,  0, 21,  0,  0,  0,  0,  0,  0],\n",
       "       [ 0,  1,  0, 92,  0,  0,  0,  0,  0],\n",
       "       [ 0,  1,  0,  0, 81,  0,  0,  0,  1],\n",
       "       [ 0,  0,  0,  0,  0, 14,  0,  0,  0],\n",
       "       [ 0,  0,  0,  0,  0,  0, 45,  0,  0],\n",
       "       [ 0,  1,  0,  0,  0,  0,  0, 19,  0],\n",
       "       [ 0,  0,  0,  0,  1,  0,  0,  0, 88]], dtype=int64)"
      ]
     },
     "execution_count": 64,
     "metadata": {},
     "output_type": "execute_result"
    }
   ],
   "source": [
    "cm_train = sm.confusion_matrix(y_train,y_pred_train)\n",
    "cm_train"
   ]
  },
  {
   "cell_type": "code",
   "execution_count": 65,
   "metadata": {},
   "outputs": [
    {
     "data": {
      "text/plain": [
       "<Figure size 1440x1440 with 0 Axes>"
      ]
     },
     "metadata": {},
     "output_type": "display_data"
    },
    {
     "data": {
      "image/png": "[encoded data removed]",
      "text/plain": [
       "<Figure size 288x288 with 2 Axes>"
      ]
     },
     "metadata": {
      "needs_background": "light"
     },
     "output_type": "display_data"
    }
   ],
   "source": [
    "fig = plt.figure(figsize=(20,20))\n",
    "pl.matshow(cm_train)\n",
    "pl.title('Confusion matrix of the classifier')\n",
    "plt.xlabel('Predicted')\n",
    "plt.ylabel('True')\n",
    "pl.colorbar()\n",
    "plt.show()"
   ]
  },
  {
   "cell_type": "code",
   "execution_count": 66,
   "metadata": {},
   "outputs": [
    {
     "name": "stdout",
     "output_type": "stream",
     "text": [
      "              precision    recall  f1-score   support\n",
      "\n",
      "    asphalt        1.00      1.00      1.00        45\n",
      "   building        0.97      0.99      0.98        97\n",
      "        car        1.00      1.00      1.00        21\n",
      "   concrete        0.99      0.99      0.99        93\n",
      "      grass        0.99      0.98      0.98        83\n",
      "       pool        1.00      1.00      1.00        14\n",
      "     shadow        1.00      1.00      1.00        45\n",
      "       soil        1.00      0.95      0.97        20\n",
      "       tree        0.99      0.99      0.99        89\n",
      "\n",
      "    accuracy                           0.99       507\n",
      "   macro avg       0.99      0.99      0.99       507\n",
      "weighted avg       0.99      0.99      0.99       507\n",
      "\n"
     ]
    }
   ],
   "source": [
    "print(sm.classification_report(y_train,y_pred_train))"
   ]
  },
  {
   "cell_type": "markdown",
   "metadata": {},
   "source": [
    "**Explanation** - This model is performing better than the random forest and linear svc with better test accuracy. None of the parameter - precision, recall and f1-score are close to 1. Moreover, the parameters for test and train are very close indicating there is no overfitting."
   ]
  },
  {
   "cell_type": "markdown",
   "metadata": {},
   "source": [
    "### 7. Conceptual Questions:"
   ]
  },
  {
   "cell_type": "markdown",
   "metadata": {},
   "source": [
    "##### a) From the models run in steps 2-6, which performs the best based on the Classification Report? Support your reasoning with evidence around your test data. \n",
    "\n",
    "**Answer** - Based on the Classification Report, the model Support Vector Machine Classifier + Linear Kernel + Grid Search run in step 4 is the best performing model. The training accuracy for this model is 0.89 and the test accuracy is 0.82. Since there is very less difference between train and test accuracy, there is no overfitting in the model. Additionally, the F-1 score for most of the classes (except for Soil, concrete and car) are above or close to 0.8.  \n",
    "\n",
    "For all other models, the accuracy between train and test is very high and the training accuracy and f-1 score for most of the classes is close to 1 indicating overfitting."
   ]
  },
  {
   "cell_type": "markdown",
   "metadata": {},
   "source": [
    "##### b) Compare models run for steps 4-6 where different kernels were used. What is the benefit of using a polynomial or rbf kernel over a linear kernel? What could be a downside of using a polynomial or rbf kernel?\n",
    "\n",
    "**Answer** - The model in step 4 is performing better than the models in step 5 and 6. Model is step 4 is not overfitting whereas the models in steps 5 and 6 are overfitting.  \n",
    "The linear, polynomial and RBF or Gaussian kernel are simply different in case of making the hyperplane decision boundary between the classes. The kernel functions are used to map the original dataset (linear/nonlinear ) into a higher dimensional space with view to making it linear dataset.  \n",
    "The polynomial and rbf kernels will transform the data into higher dimensions so that it is easier to separate the data using linear boundary of a hyperplane.  \n",
    "The downside of polynomial and rbf kernels id that it may be computationally expensive to compute all the additional features, especially on large training sets."
   ]
  },
  {
   "cell_type": "markdown",
   "metadata": {},
   "source": [
    "##### c) Explain the 'C' parameter used in steps 4-6. What does a small C mean versus a large C in sklearn? Why is it important to use the 'C' parameter when fitting a model? \n",
    "\n",
    "**Answer** - In SVC and SVM, the objective is to find a good balance between hard and soft margin to limit the margin violations and to avoid overfitting the model. Scikit learn SVC models use the C parameter for this purpose. A smaller C value leads to a wider margin but more margin violations. High C value the classifier makes fewer margin violations but ends up with a smaller margin and can be prone to overfitting.  \n",
    "If the SVM model is overfitting, it can be regularized by using the C parameter."
   ]
  },
  {
   "cell_type": "markdown",
   "metadata": {},
   "source": [
    "##### d) Scaling our input data does not matter much for Random Forest, but it is a critical step for Support Vector Machines. Explain why this is such a critical step. Also, provide an example of a feature from this data set that could cause issues with our SVMs if not scaled.\n",
    "\n",
    "**Answer** - Machine learning algorithms that are non tree based just uses numbers and makes decision based on these numbers. So higher numbers get more weightage than lower numbers. This causes the algorithm to give more weightage to these features, which might not necessarily be the case. Hence to bring all the features on the same footing, scaling is used.  \n",
    "In the case of the data for this assignment, we have some features with value that are in units and some features with values in 100s and some with values in thousands. Features such as GLCM3 have values in thousands and SVM would give more weigtage to this feature over say BrdIndx which has values in the units."
   ]
  },
  {
   "cell_type": "markdown",
   "metadata": {},
   "source": [
    "##### e) Describe conceptually what the purpose of a kernel is for Support Vector Machines.\n",
    "\n",
    "**Answer** - Kernel is used due to set of mathematical functions used in Support Vector Machine provides the window to manipulate the data. So, Kernel Function generally transforms the training set of data so that a non-linear decision surface is transformed to a linear equation in a higher number of dimension spaces."
   ]
  }
 ],
 "metadata": {
  "kernelspec": {
   "display_name": "Python 3",
   "language": "python",
   "name": "python3"
  },
  "language_info": {
   "codemirror_mode": {
    "name": "ipython",
    "version": 3
   },
   "file_extension": ".py",
   "mimetype": "text/x-python",
   "name": "python",
   "nbconvert_exporter": "python",
   "pygments_lexer": "ipython3",
   "version": "3.7.6"
  }
 },
 "nbformat": 4,
 "nbformat_minor": 4
}
